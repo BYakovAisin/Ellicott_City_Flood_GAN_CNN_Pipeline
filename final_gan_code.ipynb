{
  "nbformat": 4,
  "nbformat_minor": 0,
  "metadata": {
    "kernelspec": {
      "display_name": "Python 3",
      "language": "python",
      "name": "python3"
    },
    "language_info": {
      "codemirror_mode": {
        "name": "ipython",
        "version": 3
      },
      "file_extension": ".py",
      "mimetype": "text/x-python",
      "name": "python",
      "nbconvert_exporter": "python",
      "pygments_lexer": "ipython3",
      "version": "3.8.5"
    },
    "colab": {
      "name": "final_gan_code.ipynb",
      "provenance": []
    }
  },
  "cells": [
    {
      "cell_type": "code",
      "metadata": {
        "id": "OC_mONSUrbUR"
      },
      "source": [
        "import pandas as pd \n",
        "from sklearn.preprocessing import PowerTransformer\n",
        "import os\n",
        "import numpy as np\n",
        "import tensorflow as tf\n",
        "from tensorflow.keras.layers import Dense, Dropout, BatchNormalization\n",
        "from tensorflow.keras.layers import Input,Flatten\n",
        "from tensorflow.keras.layers import Dropout,LeakyReLU\n",
        "from tensorflow.keras import Model\n",
        "from tensorflow.keras.optimizers import Adam\n",
        "from tensorflow.keras.optimizers import Adamax\n",
        "from matplotlib import pyplot as plt\n",
        "from tensorflow.keras import layers\n",
        "from tensorflow.keras import activations\n",
        "from numpy import asarray\n",
        "from sklearn.preprocessing import MinMaxScaler\n",
        "#from tensorflow.keras.optimizers import Adamdelta"
      ],
      "execution_count": null,
      "outputs": []
    },
    {
      "cell_type": "code",
      "metadata": {
        "scrolled": true,
        "id": "NE2Hj02brbUg",
        "outputId": "0f76ab75-053a-485d-e0e4-8ea817d57b96"
      },
      "source": [
        "\n",
        "df = pd.read_csv(\"test_train_2events.csv\")\n",
        "df.head()"
      ],
      "execution_count": null,
      "outputs": [
        {
          "output_type": "execute_result",
          "data": {
            "text/html": [
              "<div>\n",
              "<style scoped>\n",
              "    .dataframe tbody tr th:only-of-type {\n",
              "        vertical-align: middle;\n",
              "    }\n",
              "\n",
              "    .dataframe tbody tr th {\n",
              "        vertical-align: top;\n",
              "    }\n",
              "\n",
              "    .dataframe thead th {\n",
              "        text-align: right;\n",
              "    }\n",
              "</style>\n",
              "<table border=\"1\" class=\"dataframe\">\n",
              "  <thead>\n",
              "    <tr style=\"text-align: right;\">\n",
              "      <th></th>\n",
              "      <th>Unnamed: 0</th>\n",
              "      <th>datetime</th>\n",
              "      <th>discharge_patapsco (catonsville)</th>\n",
              "      <th>gage_height_patapsco (catonsville)</th>\n",
              "      <th>discharge_patapsco (elkridge)</th>\n",
              "      <th>gage_height_patapsco (elkridge)</th>\n",
              "      <th>HourlyAltimeterSetting</th>\n",
              "      <th>HourlyDewPointTemperature</th>\n",
              "      <th>HourlyDryBulbTemperature</th>\n",
              "      <th>HourlyPrecipitation</th>\n",
              "      <th>HourlyRelativeHumidity</th>\n",
              "      <th>HourlyStationPressure</th>\n",
              "      <th>HourlyVisibility</th>\n",
              "      <th>y</th>\n",
              "      <th>Unnamed: 0.1</th>\n",
              "    </tr>\n",
              "  </thead>\n",
              "  <tbody>\n",
              "    <tr>\n",
              "      <th>0</th>\n",
              "      <td>0</td>\n",
              "      <td>7/25/16 0:00</td>\n",
              "      <td>53.5</td>\n",
              "      <td>10.27</td>\n",
              "      <td>61.8</td>\n",
              "      <td>5.21</td>\n",
              "      <td>29.97</td>\n",
              "      <td>73</td>\n",
              "      <td>79</td>\n",
              "      <td>0</td>\n",
              "      <td>82</td>\n",
              "      <td>29.80</td>\n",
              "      <td>10.00</td>\n",
              "      <td>0</td>\n",
              "      <td>NaN</td>\n",
              "    </tr>\n",
              "    <tr>\n",
              "      <th>1</th>\n",
              "      <td>1</td>\n",
              "      <td>7/25/16 0:15</td>\n",
              "      <td>53.5</td>\n",
              "      <td>10.27</td>\n",
              "      <td>61.8</td>\n",
              "      <td>5.21</td>\n",
              "      <td>29.97</td>\n",
              "      <td>73</td>\n",
              "      <td>79</td>\n",
              "      <td>0</td>\n",
              "      <td>82</td>\n",
              "      <td>29.80</td>\n",
              "      <td>10.00</td>\n",
              "      <td>0</td>\n",
              "      <td>NaN</td>\n",
              "    </tr>\n",
              "    <tr>\n",
              "      <th>2</th>\n",
              "      <td>2</td>\n",
              "      <td>7/25/16 0:30</td>\n",
              "      <td>53.5</td>\n",
              "      <td>10.27</td>\n",
              "      <td>61.8</td>\n",
              "      <td>5.21</td>\n",
              "      <td>29.95</td>\n",
              "      <td>74</td>\n",
              "      <td>80</td>\n",
              "      <td>0</td>\n",
              "      <td>82</td>\n",
              "      <td>29.74</td>\n",
              "      <td>9.94</td>\n",
              "      <td>0</td>\n",
              "      <td>NaN</td>\n",
              "    </tr>\n",
              "    <tr>\n",
              "      <th>3</th>\n",
              "      <td>3</td>\n",
              "      <td>7/25/16 0:45</td>\n",
              "      <td>53.5</td>\n",
              "      <td>10.27</td>\n",
              "      <td>61.8</td>\n",
              "      <td>5.21</td>\n",
              "      <td>29.95</td>\n",
              "      <td>74</td>\n",
              "      <td>80</td>\n",
              "      <td>0</td>\n",
              "      <td>82</td>\n",
              "      <td>29.74</td>\n",
              "      <td>9.94</td>\n",
              "      <td>0</td>\n",
              "      <td>NaN</td>\n",
              "    </tr>\n",
              "    <tr>\n",
              "      <th>4</th>\n",
              "      <td>4</td>\n",
              "      <td>7/25/16 1:00</td>\n",
              "      <td>53.5</td>\n",
              "      <td>10.27</td>\n",
              "      <td>61.8</td>\n",
              "      <td>5.21</td>\n",
              "      <td>29.95</td>\n",
              "      <td>74</td>\n",
              "      <td>80</td>\n",
              "      <td>0</td>\n",
              "      <td>82</td>\n",
              "      <td>29.74</td>\n",
              "      <td>9.94</td>\n",
              "      <td>0</td>\n",
              "      <td>NaN</td>\n",
              "    </tr>\n",
              "  </tbody>\n",
              "</table>\n",
              "</div>"
            ],
            "text/plain": [
              "   Unnamed: 0      datetime  discharge_patapsco (catonsville)  \\\n",
              "0           0  7/25/16 0:00                              53.5   \n",
              "1           1  7/25/16 0:15                              53.5   \n",
              "2           2  7/25/16 0:30                              53.5   \n",
              "3           3  7/25/16 0:45                              53.5   \n",
              "4           4  7/25/16 1:00                              53.5   \n",
              "\n",
              "   gage_height_patapsco (catonsville)  discharge_patapsco (elkridge)  \\\n",
              "0                               10.27                           61.8   \n",
              "1                               10.27                           61.8   \n",
              "2                               10.27                           61.8   \n",
              "3                               10.27                           61.8   \n",
              "4                               10.27                           61.8   \n",
              "\n",
              "   gage_height_patapsco (elkridge)  HourlyAltimeterSetting  \\\n",
              "0                             5.21                   29.97   \n",
              "1                             5.21                   29.97   \n",
              "2                             5.21                   29.95   \n",
              "3                             5.21                   29.95   \n",
              "4                             5.21                   29.95   \n",
              "\n",
              "   HourlyDewPointTemperature  HourlyDryBulbTemperature HourlyPrecipitation  \\\n",
              "0                         73                        79                   0   \n",
              "1                         73                        79                   0   \n",
              "2                         74                        80                   0   \n",
              "3                         74                        80                   0   \n",
              "4                         74                        80                   0   \n",
              "\n",
              "   HourlyRelativeHumidity  HourlyStationPressure  HourlyVisibility  y  \\\n",
              "0                      82                  29.80             10.00  0   \n",
              "1                      82                  29.80             10.00  0   \n",
              "2                      82                  29.74              9.94  0   \n",
              "3                      82                  29.74              9.94  0   \n",
              "4                      82                  29.74              9.94  0   \n",
              "\n",
              "   Unnamed: 0.1  \n",
              "0           NaN  \n",
              "1           NaN  \n",
              "2           NaN  \n",
              "3           NaN  \n",
              "4           NaN  "
            ]
          },
          "metadata": {
            "tags": []
          },
          "execution_count": 2
        }
      ]
    },
    {
      "cell_type": "code",
      "metadata": {
        "id": "HbuKCtF7rbUm",
        "outputId": "b8275fce-340d-44b8-a4da-45ab92bb2090"
      },
      "source": [
        "df.columns"
      ],
      "execution_count": null,
      "outputs": [
        {
          "output_type": "execute_result",
          "data": {
            "text/plain": [
              "Index(['Unnamed: 0', 'datetime', 'discharge_patapsco (catonsville)',\n",
              "       'gage_height_patapsco (catonsville)', 'discharge_patapsco (elkridge)',\n",
              "       'gage_height_patapsco (elkridge)', 'HourlyAltimeterSetting',\n",
              "       'HourlyDewPointTemperature', 'HourlyDryBulbTemperature',\n",
              "       'HourlyPrecipitation', 'HourlyRelativeHumidity',\n",
              "       'HourlyStationPressure', 'HourlyVisibility', 'y', 'Unnamed: 0.1'],\n",
              "      dtype='object')"
            ]
          },
          "metadata": {
            "tags": []
          },
          "execution_count": 3
        }
      ]
    },
    {
      "cell_type": "code",
      "metadata": {
        "id": "h7RAIAs8rbUr"
      },
      "source": [
        "pd.set_option('display.max_rows', 500)"
      ],
      "execution_count": null,
      "outputs": []
    },
    {
      "cell_type": "code",
      "metadata": {
        "id": "iRS5-bPnrbUt"
      },
      "source": [
        ""
      ],
      "execution_count": null,
      "outputs": []
    },
    {
      "cell_type": "code",
      "metadata": {
        "id": "tIa8xYx6rbUu"
      },
      "source": [
        ""
      ],
      "execution_count": null,
      "outputs": []
    },
    {
      "cell_type": "code",
      "metadata": {
        "id": "VRQ3744MrbUw"
      },
      "source": [
        ""
      ],
      "execution_count": null,
      "outputs": []
    },
    {
      "cell_type": "code",
      "metadata": {
        "scrolled": true,
        "id": "hZ6lYe1KrbUy",
        "outputId": "f5fb2726-90d8-406d-ad71-0a4b9c7fd128"
      },
      "source": [
        "\n",
        "df = df[['discharge_patapsco (catonsville)',\n",
        "       'gage_height_patapsco (catonsville)', 'discharge_patapsco (elkridge)',\n",
        "       'gage_height_patapsco (elkridge)', 'HourlyAltimeterSetting',\n",
        "       'HourlyDewPointTemperature', 'HourlyDryBulbTemperature',\n",
        "       'HourlyPrecipitation', 'HourlyRelativeHumidity',\n",
        "       'HourlyStationPressure', 'HourlyVisibility', 'y']]\n",
        "df.head()"
      ],
      "execution_count": null,
      "outputs": [
        {
          "output_type": "execute_result",
          "data": {
            "text/html": [
              "<div>\n",
              "<style scoped>\n",
              "    .dataframe tbody tr th:only-of-type {\n",
              "        vertical-align: middle;\n",
              "    }\n",
              "\n",
              "    .dataframe tbody tr th {\n",
              "        vertical-align: top;\n",
              "    }\n",
              "\n",
              "    .dataframe thead th {\n",
              "        text-align: right;\n",
              "    }\n",
              "</style>\n",
              "<table border=\"1\" class=\"dataframe\">\n",
              "  <thead>\n",
              "    <tr style=\"text-align: right;\">\n",
              "      <th></th>\n",
              "      <th>discharge_patapsco (catonsville)</th>\n",
              "      <th>gage_height_patapsco (catonsville)</th>\n",
              "      <th>discharge_patapsco (elkridge)</th>\n",
              "      <th>gage_height_patapsco (elkridge)</th>\n",
              "      <th>HourlyAltimeterSetting</th>\n",
              "      <th>HourlyDewPointTemperature</th>\n",
              "      <th>HourlyDryBulbTemperature</th>\n",
              "      <th>HourlyPrecipitation</th>\n",
              "      <th>HourlyRelativeHumidity</th>\n",
              "      <th>HourlyStationPressure</th>\n",
              "      <th>HourlyVisibility</th>\n",
              "      <th>y</th>\n",
              "    </tr>\n",
              "  </thead>\n",
              "  <tbody>\n",
              "    <tr>\n",
              "      <th>0</th>\n",
              "      <td>53.5</td>\n",
              "      <td>10.27</td>\n",
              "      <td>61.8</td>\n",
              "      <td>5.21</td>\n",
              "      <td>29.97</td>\n",
              "      <td>73</td>\n",
              "      <td>79</td>\n",
              "      <td>0</td>\n",
              "      <td>82</td>\n",
              "      <td>29.80</td>\n",
              "      <td>10.00</td>\n",
              "      <td>0</td>\n",
              "    </tr>\n",
              "    <tr>\n",
              "      <th>1</th>\n",
              "      <td>53.5</td>\n",
              "      <td>10.27</td>\n",
              "      <td>61.8</td>\n",
              "      <td>5.21</td>\n",
              "      <td>29.97</td>\n",
              "      <td>73</td>\n",
              "      <td>79</td>\n",
              "      <td>0</td>\n",
              "      <td>82</td>\n",
              "      <td>29.80</td>\n",
              "      <td>10.00</td>\n",
              "      <td>0</td>\n",
              "    </tr>\n",
              "    <tr>\n",
              "      <th>2</th>\n",
              "      <td>53.5</td>\n",
              "      <td>10.27</td>\n",
              "      <td>61.8</td>\n",
              "      <td>5.21</td>\n",
              "      <td>29.95</td>\n",
              "      <td>74</td>\n",
              "      <td>80</td>\n",
              "      <td>0</td>\n",
              "      <td>82</td>\n",
              "      <td>29.74</td>\n",
              "      <td>9.94</td>\n",
              "      <td>0</td>\n",
              "    </tr>\n",
              "    <tr>\n",
              "      <th>3</th>\n",
              "      <td>53.5</td>\n",
              "      <td>10.27</td>\n",
              "      <td>61.8</td>\n",
              "      <td>5.21</td>\n",
              "      <td>29.95</td>\n",
              "      <td>74</td>\n",
              "      <td>80</td>\n",
              "      <td>0</td>\n",
              "      <td>82</td>\n",
              "      <td>29.74</td>\n",
              "      <td>9.94</td>\n",
              "      <td>0</td>\n",
              "    </tr>\n",
              "    <tr>\n",
              "      <th>4</th>\n",
              "      <td>53.5</td>\n",
              "      <td>10.27</td>\n",
              "      <td>61.8</td>\n",
              "      <td>5.21</td>\n",
              "      <td>29.95</td>\n",
              "      <td>74</td>\n",
              "      <td>80</td>\n",
              "      <td>0</td>\n",
              "      <td>82</td>\n",
              "      <td>29.74</td>\n",
              "      <td>9.94</td>\n",
              "      <td>0</td>\n",
              "    </tr>\n",
              "  </tbody>\n",
              "</table>\n",
              "</div>"
            ],
            "text/plain": [
              "   discharge_patapsco (catonsville)  gage_height_patapsco (catonsville)  \\\n",
              "0                              53.5                               10.27   \n",
              "1                              53.5                               10.27   \n",
              "2                              53.5                               10.27   \n",
              "3                              53.5                               10.27   \n",
              "4                              53.5                               10.27   \n",
              "\n",
              "   discharge_patapsco (elkridge)  gage_height_patapsco (elkridge)  \\\n",
              "0                           61.8                             5.21   \n",
              "1                           61.8                             5.21   \n",
              "2                           61.8                             5.21   \n",
              "3                           61.8                             5.21   \n",
              "4                           61.8                             5.21   \n",
              "\n",
              "   HourlyAltimeterSetting  HourlyDewPointTemperature  \\\n",
              "0                   29.97                         73   \n",
              "1                   29.97                         73   \n",
              "2                   29.95                         74   \n",
              "3                   29.95                         74   \n",
              "4                   29.95                         74   \n",
              "\n",
              "   HourlyDryBulbTemperature HourlyPrecipitation  HourlyRelativeHumidity  \\\n",
              "0                        79                   0                      82   \n",
              "1                        79                   0                      82   \n",
              "2                        80                   0                      82   \n",
              "3                        80                   0                      82   \n",
              "4                        80                   0                      82   \n",
              "\n",
              "   HourlyStationPressure  HourlyVisibility  y  \n",
              "0                  29.80             10.00  0  \n",
              "1                  29.80             10.00  0  \n",
              "2                  29.74              9.94  0  \n",
              "3                  29.74              9.94  0  \n",
              "4                  29.74              9.94  0  "
            ]
          },
          "metadata": {
            "tags": []
          },
          "execution_count": 5
        }
      ]
    },
    {
      "cell_type": "code",
      "metadata": {
        "id": "uPqG-quurbVA"
      },
      "source": [
        "#run this to understand counts to see how the wrong data is inside this column\n",
        "#df['HourlyPrecipitation'].value_counts()"
      ],
      "execution_count": null,
      "outputs": []
    },
    {
      "cell_type": "code",
      "metadata": {
        "id": "Qrlo5wEJrbVE"
      },
      "source": [
        ""
      ],
      "execution_count": null,
      "outputs": []
    },
    {
      "cell_type": "code",
      "metadata": {
        "id": "qkMS1ke3rbVG"
      },
      "source": [
        ""
      ],
      "execution_count": null,
      "outputs": []
    },
    {
      "cell_type": "code",
      "metadata": {
        "scrolled": true,
        "id": "u2AfYDY1rbVH",
        "outputId": "1e70abd9-5643-4f89-fc61-59db840dc289"
      },
      "source": [
        "#replacing t's with previous value\n",
        "\n",
        "index = df.loc[df['HourlyPrecipitation']== \"T\",:].index\n",
        "\n",
        "for i in index:\n",
        "    if df['HourlyPrecipitation'][i] ==\"T\":\n",
        "        df['HourlyPrecipitation'][i] = df['HourlyPrecipitation'][i-1]"
      ],
      "execution_count": null,
      "outputs": [
        {
          "output_type": "stream",
          "text": [
            "<ipython-input-7-b36020928a13>:7: SettingWithCopyWarning: \n",
            "A value is trying to be set on a copy of a slice from a DataFrame\n",
            "\n",
            "See the caveats in the documentation: https://pandas.pydata.org/pandas-docs/stable/user_guide/indexing.html#returning-a-view-versus-a-copy\n",
            "  df['HourlyPrecipitation'][i] = df['HourlyPrecipitation'][i-1]\n"
          ],
          "name": "stderr"
        }
      ]
    },
    {
      "cell_type": "code",
      "metadata": {
        "id": "kYP_OeHMrbVL",
        "outputId": "0e17d756-e09d-463e-f773-d65e526c3b95"
      },
      "source": [
        "df['HourlyPrecipitation'].value_counts()"
      ],
      "execution_count": null,
      "outputs": [
        {
          "output_type": "execute_result",
          "data": {
            "text/plain": [
              "0       2063\n",
              "0.01      68\n",
              "0.07      17\n",
              "0.04      17\n",
              "0.02      17\n",
              "0.06      16\n",
              "0.09      12\n",
              "0.67      10\n",
              "0.05       9\n",
              "0.21       9\n",
              "0.03       8\n",
              "0.33       8\n",
              "0.1        4\n",
              "0.18       4\n",
              "0.58       2\n",
              "0.08       2\n",
              "0.11       2\n",
              "0.59       2\n",
              "0.13       2\n",
              "0.25       2\n",
              "1.24       1\n",
              "0.12       1\n",
              "0.37       1\n",
              "0.3        1\n",
              "0.19       1\n",
              "0.24       1\n",
              "0.4        1\n",
              "0.14       1\n",
              "0.42       1\n",
              "Name: HourlyPrecipitation, dtype: int64"
            ]
          },
          "metadata": {
            "tags": []
          },
          "execution_count": 8
        }
      ]
    },
    {
      "cell_type": "code",
      "metadata": {
        "id": "LuVD9eIlrbVN"
      },
      "source": [
        "df.columns = ['discharge_patapsco (catonsville)',\n",
        "       'gage_height_patapsco (catonsville)', 'discharge_patapsco (elkridge)',\n",
        "       'gage_height_patapsco (elkridge)', 'HourlyAltimeterSetting',\n",
        "       'HourlyDewPointTemperature', 'HourlyDryBulbTemperature',\n",
        "       'HourlyPrecipitation', 'HourlyRelativeHumidity',\n",
        "       'HourlyStationPressure', 'HourlyVisibility', 'y']"
      ],
      "execution_count": null,
      "outputs": []
    },
    {
      "cell_type": "code",
      "metadata": {
        "id": "KmTdqKV7rbVQ",
        "outputId": "9fd0e767-0d5e-46e4-f5c8-5bbc4dd81e63"
      },
      "source": [
        "#normalizing\n",
        "df[df.columns] = PowerTransformer(method='yeo-johnson', standardize=True, copy=True).fit_transform(df[df.columns])\n",
        "print(df)\n"
      ],
      "execution_count": null,
      "outputs": [
        {
          "output_type": "stream",
          "text": [
            "      discharge_patapsco (catonsville)  gage_height_patapsco (catonsville)  \\\n",
            "0                            -1.707914                           -1.708912   \n",
            "1                            -1.707914                           -1.708912   \n",
            "2                            -1.707914                           -1.708912   \n",
            "3                            -1.707914                           -1.708912   \n",
            "4                            -1.707914                           -1.708912   \n",
            "...                                ...                                 ...   \n",
            "2278                          0.427740                            0.707188   \n",
            "2279                          0.420649                            0.701748   \n",
            "2280                          0.420649                            0.701748   \n",
            "2281                          0.413489                            0.696290   \n",
            "2282                          0.413489                            0.696290   \n",
            "\n",
            "      discharge_patapsco (elkridge)  gage_height_patapsco (elkridge)  \\\n",
            "0                         -1.736313                        -1.678168   \n",
            "1                         -1.736313                        -1.678168   \n",
            "2                         -1.736313                        -1.678168   \n",
            "3                         -1.736313                        -1.678168   \n",
            "4                         -1.736313                        -1.678168   \n",
            "...                             ...                              ...   \n",
            "2278                       0.438509                         0.452958   \n",
            "2279                       0.432041                         0.446610   \n",
            "2280                       0.432041                         0.446610   \n",
            "2281                       0.426823                         0.440236   \n",
            "2282                       0.426823                         0.440236   \n",
            "\n",
            "      HourlyAltimeterSetting  HourlyDewPointTemperature  \\\n",
            "0                   0.000000                   1.368802   \n",
            "1                   0.000000                   1.368802   \n",
            "2                  -0.316902                   1.656326   \n",
            "3                  -0.316902                   1.656326   \n",
            "4                  -0.316902                   1.656326   \n",
            "...                      ...                        ...   \n",
            "2278                0.316902                   0.385859   \n",
            "2279                0.316902                   0.385859   \n",
            "2280                0.316902                   0.385859   \n",
            "2281                0.316902                   0.177873   \n",
            "2282                0.316902                   0.177873   \n",
            "\n",
            "      HourlyDryBulbTemperature  HourlyPrecipitation  HourlyRelativeHumidity  \\\n",
            "0                     0.527361            -0.319259                0.163776   \n",
            "1                     0.527361            -0.319259                0.163776   \n",
            "2                     0.637666            -0.319259                0.163776   \n",
            "3                     0.637666            -0.319259                0.163776   \n",
            "4                     0.637666            -0.319259                0.163776   \n",
            "...                        ...                  ...                     ...   \n",
            "2278                 -0.531804            -0.319259                1.178223   \n",
            "2279                 -0.531804            -0.319259                1.178223   \n",
            "2280                 -0.531804            -0.319259                1.178223   \n",
            "2281                 -0.657620            -0.319259                1.104438   \n",
            "2282                 -0.657620            -0.319259                1.104438   \n",
            "\n",
            "      HourlyStationPressure  HourlyVisibility         y  \n",
            "0                       0.0          0.692842 -0.445449  \n",
            "1                       0.0          0.692842 -0.445449  \n",
            "2                       0.0          0.641716 -0.445449  \n",
            "3                       0.0          0.641716 -0.445449  \n",
            "4                       0.0          0.641716 -0.445449  \n",
            "...                     ...               ...       ...  \n",
            "2278                    0.0         -1.125733 -0.445449  \n",
            "2279                    0.0         -1.125733 -0.445449  \n",
            "2280                    0.0         -1.125733 -0.445449  \n",
            "2281                    0.0         -1.125733 -0.445449  \n",
            "2282                    0.0         -1.125733 -0.445449  \n",
            "\n",
            "[2283 rows x 12 columns]\n"
          ],
          "name": "stdout"
        },
        {
          "output_type": "stream",
          "text": [
            "/opt/anaconda3/lib/python3.8/site-packages/sklearn/preprocessing/_data.py:2982: RuntimeWarning: divide by zero encountered in log\n",
            "  loglike = -n_samples / 2 * np.log(x_trans.var())\n"
          ],
          "name": "stderr"
        }
      ]
    },
    {
      "cell_type": "code",
      "metadata": {
        "id": "zAkkmv_0rbVS",
        "outputId": "dc895ca5-c473-47f5-bcf1-999b631364ce"
      },
      "source": [
        "#newly normalized data\n",
        "df.head()"
      ],
      "execution_count": null,
      "outputs": [
        {
          "output_type": "execute_result",
          "data": {
            "text/html": [
              "<div>\n",
              "<style scoped>\n",
              "    .dataframe tbody tr th:only-of-type {\n",
              "        vertical-align: middle;\n",
              "    }\n",
              "\n",
              "    .dataframe tbody tr th {\n",
              "        vertical-align: top;\n",
              "    }\n",
              "\n",
              "    .dataframe thead th {\n",
              "        text-align: right;\n",
              "    }\n",
              "</style>\n",
              "<table border=\"1\" class=\"dataframe\">\n",
              "  <thead>\n",
              "    <tr style=\"text-align: right;\">\n",
              "      <th></th>\n",
              "      <th>discharge_patapsco (catonsville)</th>\n",
              "      <th>gage_height_patapsco (catonsville)</th>\n",
              "      <th>discharge_patapsco (elkridge)</th>\n",
              "      <th>gage_height_patapsco (elkridge)</th>\n",
              "      <th>HourlyAltimeterSetting</th>\n",
              "      <th>HourlyDewPointTemperature</th>\n",
              "      <th>HourlyDryBulbTemperature</th>\n",
              "      <th>HourlyPrecipitation</th>\n",
              "      <th>HourlyRelativeHumidity</th>\n",
              "      <th>HourlyStationPressure</th>\n",
              "      <th>HourlyVisibility</th>\n",
              "      <th>y</th>\n",
              "    </tr>\n",
              "  </thead>\n",
              "  <tbody>\n",
              "    <tr>\n",
              "      <th>0</th>\n",
              "      <td>-1.707914</td>\n",
              "      <td>-1.708912</td>\n",
              "      <td>-1.736313</td>\n",
              "      <td>-1.678168</td>\n",
              "      <td>0.000000</td>\n",
              "      <td>1.368802</td>\n",
              "      <td>0.527361</td>\n",
              "      <td>-0.319259</td>\n",
              "      <td>0.163776</td>\n",
              "      <td>0.0</td>\n",
              "      <td>0.692842</td>\n",
              "      <td>-0.445449</td>\n",
              "    </tr>\n",
              "    <tr>\n",
              "      <th>1</th>\n",
              "      <td>-1.707914</td>\n",
              "      <td>-1.708912</td>\n",
              "      <td>-1.736313</td>\n",
              "      <td>-1.678168</td>\n",
              "      <td>0.000000</td>\n",
              "      <td>1.368802</td>\n",
              "      <td>0.527361</td>\n",
              "      <td>-0.319259</td>\n",
              "      <td>0.163776</td>\n",
              "      <td>0.0</td>\n",
              "      <td>0.692842</td>\n",
              "      <td>-0.445449</td>\n",
              "    </tr>\n",
              "    <tr>\n",
              "      <th>2</th>\n",
              "      <td>-1.707914</td>\n",
              "      <td>-1.708912</td>\n",
              "      <td>-1.736313</td>\n",
              "      <td>-1.678168</td>\n",
              "      <td>-0.316902</td>\n",
              "      <td>1.656326</td>\n",
              "      <td>0.637666</td>\n",
              "      <td>-0.319259</td>\n",
              "      <td>0.163776</td>\n",
              "      <td>0.0</td>\n",
              "      <td>0.641716</td>\n",
              "      <td>-0.445449</td>\n",
              "    </tr>\n",
              "    <tr>\n",
              "      <th>3</th>\n",
              "      <td>-1.707914</td>\n",
              "      <td>-1.708912</td>\n",
              "      <td>-1.736313</td>\n",
              "      <td>-1.678168</td>\n",
              "      <td>-0.316902</td>\n",
              "      <td>1.656326</td>\n",
              "      <td>0.637666</td>\n",
              "      <td>-0.319259</td>\n",
              "      <td>0.163776</td>\n",
              "      <td>0.0</td>\n",
              "      <td>0.641716</td>\n",
              "      <td>-0.445449</td>\n",
              "    </tr>\n",
              "    <tr>\n",
              "      <th>4</th>\n",
              "      <td>-1.707914</td>\n",
              "      <td>-1.708912</td>\n",
              "      <td>-1.736313</td>\n",
              "      <td>-1.678168</td>\n",
              "      <td>-0.316902</td>\n",
              "      <td>1.656326</td>\n",
              "      <td>0.637666</td>\n",
              "      <td>-0.319259</td>\n",
              "      <td>0.163776</td>\n",
              "      <td>0.0</td>\n",
              "      <td>0.641716</td>\n",
              "      <td>-0.445449</td>\n",
              "    </tr>\n",
              "  </tbody>\n",
              "</table>\n",
              "</div>"
            ],
            "text/plain": [
              "   discharge_patapsco (catonsville)  gage_height_patapsco (catonsville)  \\\n",
              "0                         -1.707914                           -1.708912   \n",
              "1                         -1.707914                           -1.708912   \n",
              "2                         -1.707914                           -1.708912   \n",
              "3                         -1.707914                           -1.708912   \n",
              "4                         -1.707914                           -1.708912   \n",
              "\n",
              "   discharge_patapsco (elkridge)  gage_height_patapsco (elkridge)  \\\n",
              "0                      -1.736313                        -1.678168   \n",
              "1                      -1.736313                        -1.678168   \n",
              "2                      -1.736313                        -1.678168   \n",
              "3                      -1.736313                        -1.678168   \n",
              "4                      -1.736313                        -1.678168   \n",
              "\n",
              "   HourlyAltimeterSetting  HourlyDewPointTemperature  \\\n",
              "0                0.000000                   1.368802   \n",
              "1                0.000000                   1.368802   \n",
              "2               -0.316902                   1.656326   \n",
              "3               -0.316902                   1.656326   \n",
              "4               -0.316902                   1.656326   \n",
              "\n",
              "   HourlyDryBulbTemperature  HourlyPrecipitation  HourlyRelativeHumidity  \\\n",
              "0                  0.527361            -0.319259                0.163776   \n",
              "1                  0.527361            -0.319259                0.163776   \n",
              "2                  0.637666            -0.319259                0.163776   \n",
              "3                  0.637666            -0.319259                0.163776   \n",
              "4                  0.637666            -0.319259                0.163776   \n",
              "\n",
              "   HourlyStationPressure  HourlyVisibility         y  \n",
              "0                    0.0          0.692842 -0.445449  \n",
              "1                    0.0          0.692842 -0.445449  \n",
              "2                    0.0          0.641716 -0.445449  \n",
              "3                    0.0          0.641716 -0.445449  \n",
              "4                    0.0          0.641716 -0.445449  "
            ]
          },
          "metadata": {
            "tags": []
          },
          "execution_count": 12
        }
      ]
    },
    {
      "cell_type": "code",
      "metadata": {
        "id": "G-XdSFnprbVT"
      },
      "source": [
        ""
      ],
      "execution_count": null,
      "outputs": []
    },
    {
      "cell_type": "code",
      "metadata": {
        "id": "ae48lowTrbVU"
      },
      "source": [
        ""
      ],
      "execution_count": null,
      "outputs": []
    },
    {
      "cell_type": "code",
      "metadata": {
        "id": "2j5e-S6ArbVV"
      },
      "source": [
        ""
      ],
      "execution_count": null,
      "outputs": []
    },
    {
      "cell_type": "code",
      "metadata": {
        "id": "MONYS-ZirbVW"
      },
      "source": [
        "#graph function if we want to see loss every epoch\n",
        "\n",
        "def plot_history(d_hist,g_hist):\n",
        "    plt.subplot(1,1,1)\n",
        "    plt.plot(d_hist,label = 'd')\n",
        "    plt.plot(g_hist,label = 'gen')\n",
        "    plt.show()\n",
        "    plt.close()"
      ],
      "execution_count": null,
      "outputs": []
    },
    {
      "cell_type": "code",
      "metadata": {
        "id": "5k7HQr85rbVX"
      },
      "source": [
        "#add graph function into gan class\n",
        "#d_history.append(d_loss)\n",
        "#g_history.append(g_loss)"
      ],
      "execution_count": null,
      "outputs": []
    },
    {
      "cell_type": "code",
      "metadata": {
        "id": "ttD2VtBDrbVZ"
      },
      "source": [
        "class GAN():\n",
        "    \n",
        "    def __init__(self, gan_args):\n",
        "        [self.batch_size, lr, self.noise_dim,\n",
        "         self.data_dim, layers_dim] = gan_args\n",
        "\n",
        "        self.generator = Generator(self.batch_size).\\\n",
        "            build_model(input_shape=(self.noise_dim,), dim=layers_dim, data_dim=self.data_dim)\n",
        "\n",
        "        self.discriminator = Discriminator(self.batch_size).\\\n",
        "            build_model(input_shape=(self.data_dim,), dim=layers_dim)\n",
        "\n",
        "        optimizer = Adam(lr, 0.5)\n",
        "\n",
        "        \n",
        "        self.discriminator.compile(loss='binary_crossentropy',\n",
        "                                   optimizer=optimizer,\n",
        "                                   metrics=['accuracy'])\n",
        "\n",
        "        \n",
        "        z = Input(shape=(self.noise_dim,))\n",
        "        record = self.generator(z)\n",
        "\n",
        "        \n",
        "        self.discriminator.trainable = False\n",
        "\n",
        "        \n",
        "        validity = self.discriminator(record)\n",
        "\n",
        "        \n",
        "        self.combined = Model(z, validity)\n",
        "        self.combined.compile(loss='binary_crossentropy', optimizer=optimizer)\n",
        "\n",
        "    def get_data_batch(self, train, batch_size, seed=0):\n",
        "        \n",
        "\n",
        "        start_i = (batch_size * seed) % len(train)\n",
        "        stop_i = start_i + batch_size\n",
        "        shuffle_seed = (batch_size * seed) // len(train)\n",
        "        np.random.seed(shuffle_seed)\n",
        "        train_ix = np.random.choice(list(train.index), replace=False, size=len(train)) \n",
        "        train_ix = list(train_ix) + list(train_ix)  \n",
        "        x = train.loc[train_ix[start_i: stop_i]].values\n",
        "        return np.reshape(x, (batch_size, -1))\n",
        "        \n",
        "    def train(self, data, train_arguments):\n",
        "        [cache_prefix, epochs, sample_interval] = train_arguments\n",
        "        \n",
        "        data_cols = data.columns\n",
        "\n",
        "        \n",
        "        valid = np.ones((self.batch_size, 1))\n",
        "        fake = np.zeros((self.batch_size, 1))\n",
        "\n",
        "        for epoch in range(epochs):    \n",
        "           \n",
        "            batch_data = self.get_data_batch(data, self.batch_size)\n",
        "            noise = tf.random.normal((self.batch_size, self.noise_dim))\n",
        "\n",
        "            \n",
        "            gen_data = self.generator.predict(noise)\n",
        "    \n",
        "            \n",
        "            d_loss_real = self.discriminator.train_on_batch(batch_data, valid)\n",
        "            d_loss_fake = self.discriminator.train_on_batch(gen_data, fake)\n",
        "            d_loss = 0.5 * np.add(d_loss_real, d_loss_fake)\n",
        "    \n",
        "          \n",
        "            noise = tf.random.normal((self.batch_size, self.noise_dim))\n",
        "            \n",
        "            g_loss = self.combined.train_on_batch(noise, valid)\n",
        "    \n",
        "            \n",
        "            print(\"%d [D loss: %f, acc.: %.2f%%] [G loss: %f]\" % (epoch, d_loss[0], 100 * d_loss[1], g_loss))\n",
        "            \n",
        "            #d_history.append(d_loss)\n",
        "            #g_history.append(g_loss)\n",
        "            \n",
        "            \n",
        "            \n",
        "            if epoch % sample_interval == 0:\n",
        "                \n",
        "                model_checkpoint_base_name = 'model/' + cache_prefix + '_{}_model_weights_step_{}.h5'\n",
        "                self.generator.save_weights(model_checkpoint_base_name.format('generator', epoch))\n",
        "                self.discriminator.save_weights(model_checkpoint_base_name.format('discriminator', epoch))\n",
        "\n",
        "                \n",
        "                z = tf.random.normal((432, self.noise_dim))\n",
        "                gen_data = self.generator(z)\n",
        "                print('generated_data')\n",
        "    \n",
        "class Generator():\n",
        "    def __init__(self, batch_size):\n",
        "        self.batch_size=batch_size\n",
        "        \n",
        "    def build_model(self, input_shape, dim, data_dim):\n",
        "        input= Input(shape=input_shape, batch_size=self.batch_size)\n",
        "        x = Dense(dim, activation='relu')(input)\n",
        "        x = Dense(dim * 4, activation='relu')(x)\n",
        "        x = Dense(data_dim)(x)\n",
        "        return Model(inputs=input, outputs=x)\n",
        "\n",
        "class Discriminator():\n",
        "    def __init__(self,batch_size):\n",
        "        self.batch_size=batch_size\n",
        "    \n",
        "    def build_model(self, input_shape, dim):\n",
        "        input = Input(shape=input_shape, batch_size=self.batch_size)\n",
        "        x = Dense(dim * 4, activation='relu')(input)\n",
        "        x = Dropout(0.1)(x)\n",
        "        x = Dense(dim * 2, activation='relu')(x)\n",
        "        x = Dense(dim, activation='relu')(x)\n",
        "        X = Flatten()\n",
        "        x = Dropout(0.3)(x)\n",
        "        x = Dense(1, activation='sigmoid')(x)\n",
        "        return Model(inputs=input, outputs=x)"
      ],
      "execution_count": null,
      "outputs": []
    },
    {
      "cell_type": "code",
      "metadata": {
        "id": "S907VigprbVi"
      },
      "source": [
        "#have to continute to do parameter tuning below "
      ],
      "execution_count": null,
      "outputs": []
    },
    {
      "cell_type": "code",
      "metadata": {
        "id": "dtCEjL77rbVj"
      },
      "source": [
        "data_cols = df.columns\n",
        "noise_dim = 32\n",
        "dim = 128\n",
        "#edit batch size \n",
        "batch_size = 32\n",
        "\n",
        "log_step = 100\n",
        "#edit epochs \n",
        "epochs = 1200\n",
        "learning_rate = 5e-4\n",
        "models_dir = 'model'\n",
        "\n",
        "df[data_cols] = df[data_cols]\n",
        "\n",
        "#print(df.shape[1])\n",
        "\n",
        "gan_args = [batch_size, learning_rate, noise_dim, df.shape[1], dim]\n",
        "train_args = ['', epochs, log_step]"
      ],
      "execution_count": null,
      "outputs": []
    },
    {
      "cell_type": "code",
      "metadata": {
        "id": "1xOKVeV3rbVl",
        "outputId": "403ff50b-f902-4bd6-e4f5-e3b87c570733"
      },
      "source": [
        "#training\n",
        "model = GAN\n",
        "synthesizer = model(gan_args)\n",
        "synthesizer.train(df, train_args)"
      ],
      "execution_count": null,
      "outputs": [
        {
          "output_type": "stream",
          "text": [
            "0 [D loss: 0.729019, acc.: 17.19%] [G loss: 0.698108]\n",
            "generated_data\n",
            "1 [D loss: 0.667407, acc.: 57.81%] [G loss: 0.693524]\n",
            "2 [D loss: 0.661032, acc.: 51.56%] [G loss: 0.672484]\n",
            "3 [D loss: 0.642489, acc.: 50.00%] [G loss: 0.628333]\n",
            "4 [D loss: 0.655710, acc.: 50.00%] [G loss: 0.596503]\n",
            "5 [D loss: 0.648809, acc.: 50.00%] [G loss: 0.598680]\n",
            "6 [D loss: 0.644212, acc.: 50.00%] [G loss: 0.632298]\n",
            "7 [D loss: 0.601506, acc.: 54.69%] [G loss: 0.722372]\n",
            "8 [D loss: 0.566377, acc.: 60.94%] [G loss: 0.826107]\n",
            "9 [D loss: 0.523480, acc.: 82.81%] [G loss: 0.878103]\n",
            "10 [D loss: 0.529295, acc.: 75.00%] [G loss: 0.895070]\n",
            "11 [D loss: 0.555464, acc.: 59.38%] [G loss: 0.903191]\n",
            "12 [D loss: 0.550161, acc.: 64.06%] [G loss: 0.889424]\n",
            "13 [D loss: 0.509411, acc.: 79.69%] [G loss: 1.020324]\n"
          ],
          "name": "stdout"
        },
        {
          "output_type": "error",
          "ename": "KeyboardInterrupt",
          "evalue": "",
          "traceback": [
            "\u001b[0;31m---------------------------------------------------------------------------\u001b[0m",
            "\u001b[0;31mKeyboardInterrupt\u001b[0m                         Traceback (most recent call last)",
            "\u001b[0;32m<ipython-input-22-3267656e232c>\u001b[0m in \u001b[0;36m<module>\u001b[0;34m\u001b[0m\n\u001b[1;32m      2\u001b[0m \u001b[0mmodel\u001b[0m \u001b[0;34m=\u001b[0m \u001b[0mGAN\u001b[0m\u001b[0;34m\u001b[0m\u001b[0;34m\u001b[0m\u001b[0m\n\u001b[1;32m      3\u001b[0m \u001b[0msynthesizer\u001b[0m \u001b[0;34m=\u001b[0m \u001b[0mmodel\u001b[0m\u001b[0;34m(\u001b[0m\u001b[0mgan_args\u001b[0m\u001b[0;34m)\u001b[0m\u001b[0;34m\u001b[0m\u001b[0;34m\u001b[0m\u001b[0m\n\u001b[0;32m----> 4\u001b[0;31m \u001b[0msynthesizer\u001b[0m\u001b[0;34m.\u001b[0m\u001b[0mtrain\u001b[0m\u001b[0;34m(\u001b[0m\u001b[0mdf\u001b[0m\u001b[0;34m,\u001b[0m \u001b[0mtrain_args\u001b[0m\u001b[0;34m)\u001b[0m\u001b[0;34m\u001b[0m\u001b[0;34m\u001b[0m\u001b[0m\n\u001b[0m",
            "\u001b[0;32m<ipython-input-19-74a3da5da670>\u001b[0m in \u001b[0;36mtrain\u001b[0;34m(self, data, train_arguments)\u001b[0m\n\u001b[1;32m     62\u001b[0m \u001b[0;34m\u001b[0m\u001b[0m\n\u001b[1;32m     63\u001b[0m \u001b[0;34m\u001b[0m\u001b[0m\n\u001b[0;32m---> 64\u001b[0;31m             \u001b[0md_loss_real\u001b[0m \u001b[0;34m=\u001b[0m \u001b[0mself\u001b[0m\u001b[0;34m.\u001b[0m\u001b[0mdiscriminator\u001b[0m\u001b[0;34m.\u001b[0m\u001b[0mtrain_on_batch\u001b[0m\u001b[0;34m(\u001b[0m\u001b[0mbatch_data\u001b[0m\u001b[0;34m,\u001b[0m \u001b[0mvalid\u001b[0m\u001b[0;34m)\u001b[0m\u001b[0;34m\u001b[0m\u001b[0;34m\u001b[0m\u001b[0m\n\u001b[0m\u001b[1;32m     65\u001b[0m             \u001b[0md_loss_fake\u001b[0m \u001b[0;34m=\u001b[0m \u001b[0mself\u001b[0m\u001b[0;34m.\u001b[0m\u001b[0mdiscriminator\u001b[0m\u001b[0;34m.\u001b[0m\u001b[0mtrain_on_batch\u001b[0m\u001b[0;34m(\u001b[0m\u001b[0mgen_data\u001b[0m\u001b[0;34m,\u001b[0m \u001b[0mfake\u001b[0m\u001b[0;34m)\u001b[0m\u001b[0;34m\u001b[0m\u001b[0;34m\u001b[0m\u001b[0m\n\u001b[1;32m     66\u001b[0m             \u001b[0md_loss\u001b[0m \u001b[0;34m=\u001b[0m \u001b[0;36m0.5\u001b[0m \u001b[0;34m*\u001b[0m \u001b[0mnp\u001b[0m\u001b[0;34m.\u001b[0m\u001b[0madd\u001b[0m\u001b[0;34m(\u001b[0m\u001b[0md_loss_real\u001b[0m\u001b[0;34m,\u001b[0m \u001b[0md_loss_fake\u001b[0m\u001b[0;34m)\u001b[0m\u001b[0;34m\u001b[0m\u001b[0;34m\u001b[0m\u001b[0m\n",
            "\u001b[0;32m/opt/anaconda3/lib/python3.8/site-packages/tensorflow/python/keras/engine/training.py\u001b[0m in \u001b[0;36mtrain_on_batch\u001b[0;34m(self, x, y, sample_weight, class_weight, reset_metrics, return_dict)\u001b[0m\n\u001b[1;32m   1818\u001b[0m                                                     class_weight)\n\u001b[1;32m   1819\u001b[0m       \u001b[0mself\u001b[0m\u001b[0;34m.\u001b[0m\u001b[0mtrain_function\u001b[0m \u001b[0;34m=\u001b[0m \u001b[0mself\u001b[0m\u001b[0;34m.\u001b[0m\u001b[0mmake_train_function\u001b[0m\u001b[0;34m(\u001b[0m\u001b[0;34m)\u001b[0m\u001b[0;34m\u001b[0m\u001b[0;34m\u001b[0m\u001b[0m\n\u001b[0;32m-> 1820\u001b[0;31m       \u001b[0mlogs\u001b[0m \u001b[0;34m=\u001b[0m \u001b[0mself\u001b[0m\u001b[0;34m.\u001b[0m\u001b[0mtrain_function\u001b[0m\u001b[0;34m(\u001b[0m\u001b[0miterator\u001b[0m\u001b[0;34m)\u001b[0m\u001b[0;34m\u001b[0m\u001b[0;34m\u001b[0m\u001b[0m\n\u001b[0m\u001b[1;32m   1821\u001b[0m \u001b[0;34m\u001b[0m\u001b[0m\n\u001b[1;32m   1822\u001b[0m     \u001b[0;32mif\u001b[0m \u001b[0mreset_metrics\u001b[0m\u001b[0;34m:\u001b[0m\u001b[0;34m\u001b[0m\u001b[0;34m\u001b[0m\u001b[0m\n",
            "\u001b[0;32m/opt/anaconda3/lib/python3.8/site-packages/tensorflow/python/eager/def_function.py\u001b[0m in \u001b[0;36m__call__\u001b[0;34m(self, *args, **kwds)\u001b[0m\n\u001b[1;32m    887\u001b[0m \u001b[0;34m\u001b[0m\u001b[0m\n\u001b[1;32m    888\u001b[0m       \u001b[0;32mwith\u001b[0m \u001b[0mOptionalXlaContext\u001b[0m\u001b[0;34m(\u001b[0m\u001b[0mself\u001b[0m\u001b[0;34m.\u001b[0m\u001b[0m_jit_compile\u001b[0m\u001b[0;34m)\u001b[0m\u001b[0;34m:\u001b[0m\u001b[0;34m\u001b[0m\u001b[0;34m\u001b[0m\u001b[0m\n\u001b[0;32m--> 889\u001b[0;31m         \u001b[0mresult\u001b[0m \u001b[0;34m=\u001b[0m \u001b[0mself\u001b[0m\u001b[0;34m.\u001b[0m\u001b[0m_call\u001b[0m\u001b[0;34m(\u001b[0m\u001b[0;34m*\u001b[0m\u001b[0margs\u001b[0m\u001b[0;34m,\u001b[0m \u001b[0;34m**\u001b[0m\u001b[0mkwds\u001b[0m\u001b[0;34m)\u001b[0m\u001b[0;34m\u001b[0m\u001b[0;34m\u001b[0m\u001b[0m\n\u001b[0m\u001b[1;32m    890\u001b[0m \u001b[0;34m\u001b[0m\u001b[0m\n\u001b[1;32m    891\u001b[0m       \u001b[0mnew_tracing_count\u001b[0m \u001b[0;34m=\u001b[0m \u001b[0mself\u001b[0m\u001b[0;34m.\u001b[0m\u001b[0mexperimental_get_tracing_count\u001b[0m\u001b[0;34m(\u001b[0m\u001b[0;34m)\u001b[0m\u001b[0;34m\u001b[0m\u001b[0;34m\u001b[0m\u001b[0m\n",
            "\u001b[0;32m/opt/anaconda3/lib/python3.8/site-packages/tensorflow/python/eager/def_function.py\u001b[0m in \u001b[0;36m_call\u001b[0;34m(self, *args, **kwds)\u001b[0m\n\u001b[1;32m    915\u001b[0m       \u001b[0;31m# In this case we have created variables on the first call, so we run the\u001b[0m\u001b[0;34m\u001b[0m\u001b[0;34m\u001b[0m\u001b[0;34m\u001b[0m\u001b[0m\n\u001b[1;32m    916\u001b[0m       \u001b[0;31m# defunned version which is guaranteed to never create variables.\u001b[0m\u001b[0;34m\u001b[0m\u001b[0;34m\u001b[0m\u001b[0;34m\u001b[0m\u001b[0m\n\u001b[0;32m--> 917\u001b[0;31m       \u001b[0;32mreturn\u001b[0m \u001b[0mself\u001b[0m\u001b[0;34m.\u001b[0m\u001b[0m_stateless_fn\u001b[0m\u001b[0;34m(\u001b[0m\u001b[0;34m*\u001b[0m\u001b[0margs\u001b[0m\u001b[0;34m,\u001b[0m \u001b[0;34m**\u001b[0m\u001b[0mkwds\u001b[0m\u001b[0;34m)\u001b[0m  \u001b[0;31m# pylint: disable=not-callable\u001b[0m\u001b[0;34m\u001b[0m\u001b[0;34m\u001b[0m\u001b[0m\n\u001b[0m\u001b[1;32m    918\u001b[0m     \u001b[0;32melif\u001b[0m \u001b[0mself\u001b[0m\u001b[0;34m.\u001b[0m\u001b[0m_stateful_fn\u001b[0m \u001b[0;32mis\u001b[0m \u001b[0;32mnot\u001b[0m \u001b[0;32mNone\u001b[0m\u001b[0;34m:\u001b[0m\u001b[0;34m\u001b[0m\u001b[0;34m\u001b[0m\u001b[0m\n\u001b[1;32m    919\u001b[0m       \u001b[0;31m# Release the lock early so that multiple threads can perform the call\u001b[0m\u001b[0;34m\u001b[0m\u001b[0;34m\u001b[0m\u001b[0;34m\u001b[0m\u001b[0m\n",
            "\u001b[0;32m/opt/anaconda3/lib/python3.8/site-packages/tensorflow/python/eager/function.py\u001b[0m in \u001b[0;36m__call__\u001b[0;34m(self, *args, **kwargs)\u001b[0m\n\u001b[1;32m   3021\u001b[0m       (graph_function,\n\u001b[1;32m   3022\u001b[0m        filtered_flat_args) = self._maybe_define_function(args, kwargs)\n\u001b[0;32m-> 3023\u001b[0;31m     return graph_function._call_flat(\n\u001b[0m\u001b[1;32m   3024\u001b[0m         filtered_flat_args, captured_inputs=graph_function.captured_inputs)  # pylint: disable=protected-access\n\u001b[1;32m   3025\u001b[0m \u001b[0;34m\u001b[0m\u001b[0m\n",
            "\u001b[0;32m/opt/anaconda3/lib/python3.8/site-packages/tensorflow/python/eager/function.py\u001b[0m in \u001b[0;36m_call_flat\u001b[0;34m(self, args, captured_inputs, cancellation_manager)\u001b[0m\n\u001b[1;32m   1958\u001b[0m         and executing_eagerly):\n\u001b[1;32m   1959\u001b[0m       \u001b[0;31m# No tape is watching; skip to running the function.\u001b[0m\u001b[0;34m\u001b[0m\u001b[0;34m\u001b[0m\u001b[0;34m\u001b[0m\u001b[0m\n\u001b[0;32m-> 1960\u001b[0;31m       return self._build_call_outputs(self._inference_function.call(\n\u001b[0m\u001b[1;32m   1961\u001b[0m           ctx, args, cancellation_manager=cancellation_manager))\n\u001b[1;32m   1962\u001b[0m     forward_backward = self._select_forward_and_backward_functions(\n",
            "\u001b[0;32m/opt/anaconda3/lib/python3.8/site-packages/tensorflow/python/eager/function.py\u001b[0m in \u001b[0;36mcall\u001b[0;34m(self, ctx, args, cancellation_manager)\u001b[0m\n\u001b[1;32m    589\u001b[0m       \u001b[0;32mwith\u001b[0m \u001b[0m_InterpolateFunctionError\u001b[0m\u001b[0;34m(\u001b[0m\u001b[0mself\u001b[0m\u001b[0;34m)\u001b[0m\u001b[0;34m:\u001b[0m\u001b[0;34m\u001b[0m\u001b[0;34m\u001b[0m\u001b[0m\n\u001b[1;32m    590\u001b[0m         \u001b[0;32mif\u001b[0m \u001b[0mcancellation_manager\u001b[0m \u001b[0;32mis\u001b[0m \u001b[0;32mNone\u001b[0m\u001b[0;34m:\u001b[0m\u001b[0;34m\u001b[0m\u001b[0;34m\u001b[0m\u001b[0m\n\u001b[0;32m--> 591\u001b[0;31m           outputs = execute.execute(\n\u001b[0m\u001b[1;32m    592\u001b[0m               \u001b[0mstr\u001b[0m\u001b[0;34m(\u001b[0m\u001b[0mself\u001b[0m\u001b[0;34m.\u001b[0m\u001b[0msignature\u001b[0m\u001b[0;34m.\u001b[0m\u001b[0mname\u001b[0m\u001b[0;34m)\u001b[0m\u001b[0;34m,\u001b[0m\u001b[0;34m\u001b[0m\u001b[0;34m\u001b[0m\u001b[0m\n\u001b[1;32m    593\u001b[0m               \u001b[0mnum_outputs\u001b[0m\u001b[0;34m=\u001b[0m\u001b[0mself\u001b[0m\u001b[0;34m.\u001b[0m\u001b[0m_num_outputs\u001b[0m\u001b[0;34m,\u001b[0m\u001b[0;34m\u001b[0m\u001b[0;34m\u001b[0m\u001b[0m\n",
            "\u001b[0;32m/opt/anaconda3/lib/python3.8/site-packages/tensorflow/python/eager/execute.py\u001b[0m in \u001b[0;36mquick_execute\u001b[0;34m(op_name, num_outputs, inputs, attrs, ctx, name)\u001b[0m\n\u001b[1;32m     57\u001b[0m   \u001b[0;32mtry\u001b[0m\u001b[0;34m:\u001b[0m\u001b[0;34m\u001b[0m\u001b[0;34m\u001b[0m\u001b[0m\n\u001b[1;32m     58\u001b[0m     \u001b[0mctx\u001b[0m\u001b[0;34m.\u001b[0m\u001b[0mensure_initialized\u001b[0m\u001b[0;34m(\u001b[0m\u001b[0;34m)\u001b[0m\u001b[0;34m\u001b[0m\u001b[0;34m\u001b[0m\u001b[0m\n\u001b[0;32m---> 59\u001b[0;31m     tensors = pywrap_tfe.TFE_Py_Execute(ctx._handle, device_name, op_name,\n\u001b[0m\u001b[1;32m     60\u001b[0m                                         inputs, attrs, num_outputs)\n\u001b[1;32m     61\u001b[0m   \u001b[0;32mexcept\u001b[0m \u001b[0mcore\u001b[0m\u001b[0;34m.\u001b[0m\u001b[0m_NotOkStatusException\u001b[0m \u001b[0;32mas\u001b[0m \u001b[0me\u001b[0m\u001b[0;34m:\u001b[0m\u001b[0;34m\u001b[0m\u001b[0;34m\u001b[0m\u001b[0m\n",
            "\u001b[0;31mKeyboardInterrupt\u001b[0m: "
          ]
        }
      ]
    },
    {
      "cell_type": "code",
      "metadata": {
        "id": "HkxjFodLrbVm"
      },
      "source": [
        "#keep in mind this data is normalized!!"
      ],
      "execution_count": null,
      "outputs": []
    },
    {
      "cell_type": "code",
      "metadata": {
        "id": "1VjClp7rrbVn",
        "outputId": "73ef596b-f26b-4c48-8e42-43d0e53926e5"
      },
      "source": [
        "\n",
        "\n",
        "\n",
        "seed = 17\n",
        "\n",
        "#amount of new data we want to make \n",
        "test_size = 1000\n",
        "noise_dim = 32\n",
        "\n",
        "np.random.seed(seed)\n",
        "z = np.random.normal(size=(test_size, noise_dim))\n",
        "real = synthesizer.get_data_batch(train=df, batch_size=test_size, seed=seed)\n",
        "real_samples = pd.DataFrame(real, columns=data_cols)\n",
        "models = {'GAN': ['GAN', False, synthesizer.generator]}\n",
        "[model_name,with_class,generator_model] = models['GAN']\n",
        "\n",
        "g_z = generator_model.predict(z)\n",
        "gen_samples = pd.DataFrame(g_z,columns = data_cols)\n",
        "gen_samples.head(25)\n"
      ],
      "execution_count": null,
      "outputs": [
        {
          "output_type": "execute_result",
          "data": {
            "text/html": [
              "<div>\n",
              "<style scoped>\n",
              "    .dataframe tbody tr th:only-of-type {\n",
              "        vertical-align: middle;\n",
              "    }\n",
              "\n",
              "    .dataframe tbody tr th {\n",
              "        vertical-align: top;\n",
              "    }\n",
              "\n",
              "    .dataframe thead th {\n",
              "        text-align: right;\n",
              "    }\n",
              "</style>\n",
              "<table border=\"1\" class=\"dataframe\">\n",
              "  <thead>\n",
              "    <tr style=\"text-align: right;\">\n",
              "      <th></th>\n",
              "      <th>discharge_patapsco (catonsville)</th>\n",
              "      <th>gage_height_patapsco (catonsville)</th>\n",
              "      <th>discharge_patapsco (elkridge)</th>\n",
              "      <th>gage_height_patapsco (elkridge)</th>\n",
              "      <th>HourlyAltimeterSetting</th>\n",
              "      <th>HourlyDewPointTemperature</th>\n",
              "      <th>HourlyDryBulbTemperature</th>\n",
              "      <th>HourlyPrecipitation</th>\n",
              "      <th>HourlyRelativeHumidity</th>\n",
              "      <th>HourlyStationPressure</th>\n",
              "      <th>HourlyVisibility</th>\n",
              "      <th>y</th>\n",
              "    </tr>\n",
              "  </thead>\n",
              "  <tbody>\n",
              "    <tr>\n",
              "      <th>0</th>\n",
              "      <td>0.772336</td>\n",
              "      <td>0.739695</td>\n",
              "      <td>0.754164</td>\n",
              "      <td>0.724172</td>\n",
              "      <td>-0.352772</td>\n",
              "      <td>-0.329766</td>\n",
              "      <td>-1.158718</td>\n",
              "      <td>-0.436843</td>\n",
              "      <td>1.286614</td>\n",
              "      <td>-0.039304</td>\n",
              "      <td>0.870323</td>\n",
              "      <td>-0.534547</td>\n",
              "    </tr>\n",
              "    <tr>\n",
              "      <th>1</th>\n",
              "      <td>-1.670881</td>\n",
              "      <td>-1.761236</td>\n",
              "      <td>-1.847906</td>\n",
              "      <td>-1.748482</td>\n",
              "      <td>-0.575328</td>\n",
              "      <td>0.039346</td>\n",
              "      <td>1.617851</td>\n",
              "      <td>-0.384379</td>\n",
              "      <td>-1.384061</td>\n",
              "      <td>0.036280</td>\n",
              "      <td>0.840191</td>\n",
              "      <td>-0.502933</td>\n",
              "    </tr>\n",
              "    <tr>\n",
              "      <th>2</th>\n",
              "      <td>0.086873</td>\n",
              "      <td>0.044534</td>\n",
              "      <td>0.077198</td>\n",
              "      <td>0.181858</td>\n",
              "      <td>-0.024711</td>\n",
              "      <td>0.619327</td>\n",
              "      <td>-0.090771</td>\n",
              "      <td>-0.376915</td>\n",
              "      <td>0.644865</td>\n",
              "      <td>0.020914</td>\n",
              "      <td>0.707993</td>\n",
              "      <td>-0.487491</td>\n",
              "    </tr>\n",
              "    <tr>\n",
              "      <th>3</th>\n",
              "      <td>0.279459</td>\n",
              "      <td>0.315297</td>\n",
              "      <td>0.215738</td>\n",
              "      <td>0.197998</td>\n",
              "      <td>0.044462</td>\n",
              "      <td>0.363485</td>\n",
              "      <td>-0.557868</td>\n",
              "      <td>-0.326117</td>\n",
              "      <td>1.086507</td>\n",
              "      <td>-0.002068</td>\n",
              "      <td>-1.227507</td>\n",
              "      <td>-0.445785</td>\n",
              "    </tr>\n",
              "    <tr>\n",
              "      <th>4</th>\n",
              "      <td>-1.142897</td>\n",
              "      <td>-1.207057</td>\n",
              "      <td>-1.261927</td>\n",
              "      <td>-1.230424</td>\n",
              "      <td>-0.377978</td>\n",
              "      <td>0.694680</td>\n",
              "      <td>0.959938</td>\n",
              "      <td>-0.292505</td>\n",
              "      <td>-0.700651</td>\n",
              "      <td>-0.003773</td>\n",
              "      <td>0.464901</td>\n",
              "      <td>-0.364712</td>\n",
              "    </tr>\n",
              "    <tr>\n",
              "      <th>5</th>\n",
              "      <td>0.237000</td>\n",
              "      <td>0.365790</td>\n",
              "      <td>0.273446</td>\n",
              "      <td>0.276919</td>\n",
              "      <td>0.050863</td>\n",
              "      <td>0.510562</td>\n",
              "      <td>-0.311375</td>\n",
              "      <td>-0.327554</td>\n",
              "      <td>0.965623</td>\n",
              "      <td>0.030290</td>\n",
              "      <td>-0.028898</td>\n",
              "      <td>-0.421924</td>\n",
              "    </tr>\n",
              "    <tr>\n",
              "      <th>6</th>\n",
              "      <td>-1.804943</td>\n",
              "      <td>-1.913139</td>\n",
              "      <td>-1.995956</td>\n",
              "      <td>-1.964693</td>\n",
              "      <td>-0.573085</td>\n",
              "      <td>-0.172861</td>\n",
              "      <td>2.181212</td>\n",
              "      <td>-0.424077</td>\n",
              "      <td>-1.753876</td>\n",
              "      <td>0.043289</td>\n",
              "      <td>0.827580</td>\n",
              "      <td>-0.559465</td>\n",
              "    </tr>\n",
              "    <tr>\n",
              "      <th>7</th>\n",
              "      <td>0.454133</td>\n",
              "      <td>0.741002</td>\n",
              "      <td>0.441072</td>\n",
              "      <td>0.477940</td>\n",
              "      <td>0.308993</td>\n",
              "      <td>0.420024</td>\n",
              "      <td>-0.456607</td>\n",
              "      <td>-0.343312</td>\n",
              "      <td>1.152998</td>\n",
              "      <td>-0.004528</td>\n",
              "      <td>-1.003688</td>\n",
              "      <td>-0.462638</td>\n",
              "    </tr>\n",
              "    <tr>\n",
              "      <th>8</th>\n",
              "      <td>-1.425104</td>\n",
              "      <td>-1.496531</td>\n",
              "      <td>-1.513192</td>\n",
              "      <td>-1.477515</td>\n",
              "      <td>-0.531821</td>\n",
              "      <td>0.134990</td>\n",
              "      <td>1.331664</td>\n",
              "      <td>-0.340697</td>\n",
              "      <td>-1.148914</td>\n",
              "      <td>0.001678</td>\n",
              "      <td>0.690197</td>\n",
              "      <td>-0.436401</td>\n",
              "    </tr>\n",
              "    <tr>\n",
              "      <th>9</th>\n",
              "      <td>-1.542353</td>\n",
              "      <td>-1.619353</td>\n",
              "      <td>-1.703923</td>\n",
              "      <td>-1.611747</td>\n",
              "      <td>-0.602530</td>\n",
              "      <td>-0.018975</td>\n",
              "      <td>0.993011</td>\n",
              "      <td>-0.370577</td>\n",
              "      <td>-0.957464</td>\n",
              "      <td>0.004775</td>\n",
              "      <td>0.707540</td>\n",
              "      <td>-0.450576</td>\n",
              "    </tr>\n",
              "    <tr>\n",
              "      <th>10</th>\n",
              "      <td>0.632649</td>\n",
              "      <td>0.644802</td>\n",
              "      <td>0.656126</td>\n",
              "      <td>0.632375</td>\n",
              "      <td>-0.277162</td>\n",
              "      <td>-0.365294</td>\n",
              "      <td>-1.170737</td>\n",
              "      <td>-0.354270</td>\n",
              "      <td>1.336472</td>\n",
              "      <td>-0.019958</td>\n",
              "      <td>0.737067</td>\n",
              "      <td>-0.492342</td>\n",
              "    </tr>\n",
              "    <tr>\n",
              "      <th>11</th>\n",
              "      <td>-0.701260</td>\n",
              "      <td>-0.738349</td>\n",
              "      <td>-0.756779</td>\n",
              "      <td>-0.625856</td>\n",
              "      <td>-0.062863</td>\n",
              "      <td>0.833708</td>\n",
              "      <td>0.463303</td>\n",
              "      <td>-0.309626</td>\n",
              "      <td>0.027997</td>\n",
              "      <td>-0.002116</td>\n",
              "      <td>0.502934</td>\n",
              "      <td>-0.376735</td>\n",
              "    </tr>\n",
              "    <tr>\n",
              "      <th>12</th>\n",
              "      <td>0.970858</td>\n",
              "      <td>0.980349</td>\n",
              "      <td>0.900483</td>\n",
              "      <td>0.968211</td>\n",
              "      <td>0.311478</td>\n",
              "      <td>-0.560987</td>\n",
              "      <td>-1.415380</td>\n",
              "      <td>-0.401975</td>\n",
              "      <td>1.606722</td>\n",
              "      <td>-0.009469</td>\n",
              "      <td>-2.627157</td>\n",
              "      <td>-0.509348</td>\n",
              "    </tr>\n",
              "    <tr>\n",
              "      <th>13</th>\n",
              "      <td>0.699392</td>\n",
              "      <td>0.803570</td>\n",
              "      <td>0.737215</td>\n",
              "      <td>0.756309</td>\n",
              "      <td>0.317239</td>\n",
              "      <td>-0.155315</td>\n",
              "      <td>-1.057803</td>\n",
              "      <td>-0.376712</td>\n",
              "      <td>1.342978</td>\n",
              "      <td>-0.003646</td>\n",
              "      <td>-2.045369</td>\n",
              "      <td>-0.460740</td>\n",
              "    </tr>\n",
              "    <tr>\n",
              "      <th>14</th>\n",
              "      <td>-1.214491</td>\n",
              "      <td>-1.287492</td>\n",
              "      <td>-1.296421</td>\n",
              "      <td>-1.256788</td>\n",
              "      <td>-0.558942</td>\n",
              "      <td>0.845532</td>\n",
              "      <td>0.334669</td>\n",
              "      <td>-0.320882</td>\n",
              "      <td>0.105969</td>\n",
              "      <td>0.002044</td>\n",
              "      <td>-0.503447</td>\n",
              "      <td>-0.457652</td>\n",
              "    </tr>\n",
              "    <tr>\n",
              "      <th>15</th>\n",
              "      <td>-1.680820</td>\n",
              "      <td>-1.809492</td>\n",
              "      <td>-1.922143</td>\n",
              "      <td>-1.878891</td>\n",
              "      <td>-0.516925</td>\n",
              "      <td>0.001085</td>\n",
              "      <td>2.024864</td>\n",
              "      <td>-0.441646</td>\n",
              "      <td>-1.596065</td>\n",
              "      <td>0.013277</td>\n",
              "      <td>0.794800</td>\n",
              "      <td>-0.521992</td>\n",
              "    </tr>\n",
              "    <tr>\n",
              "      <th>16</th>\n",
              "      <td>-1.731294</td>\n",
              "      <td>-1.808129</td>\n",
              "      <td>-1.862607</td>\n",
              "      <td>-1.821148</td>\n",
              "      <td>-0.630524</td>\n",
              "      <td>-0.077065</td>\n",
              "      <td>2.114313</td>\n",
              "      <td>-0.388973</td>\n",
              "      <td>-1.627141</td>\n",
              "      <td>0.041076</td>\n",
              "      <td>0.709654</td>\n",
              "      <td>-0.511701</td>\n",
              "    </tr>\n",
              "    <tr>\n",
              "      <th>17</th>\n",
              "      <td>-1.282309</td>\n",
              "      <td>-1.358119</td>\n",
              "      <td>-1.455170</td>\n",
              "      <td>-1.392613</td>\n",
              "      <td>-0.393142</td>\n",
              "      <td>0.730172</td>\n",
              "      <td>1.041951</td>\n",
              "      <td>-0.338753</td>\n",
              "      <td>-0.798439</td>\n",
              "      <td>0.008632</td>\n",
              "      <td>0.565391</td>\n",
              "      <td>-0.426813</td>\n",
              "    </tr>\n",
              "    <tr>\n",
              "      <th>18</th>\n",
              "      <td>0.701784</td>\n",
              "      <td>1.035583</td>\n",
              "      <td>0.621954</td>\n",
              "      <td>0.650541</td>\n",
              "      <td>0.432770</td>\n",
              "      <td>0.268654</td>\n",
              "      <td>-0.783224</td>\n",
              "      <td>-0.430331</td>\n",
              "      <td>1.450491</td>\n",
              "      <td>-0.011488</td>\n",
              "      <td>-1.853778</td>\n",
              "      <td>-0.587232</td>\n",
              "    </tr>\n",
              "    <tr>\n",
              "      <th>19</th>\n",
              "      <td>0.652871</td>\n",
              "      <td>0.987907</td>\n",
              "      <td>0.591172</td>\n",
              "      <td>0.624727</td>\n",
              "      <td>0.422573</td>\n",
              "      <td>0.260517</td>\n",
              "      <td>-0.834116</td>\n",
              "      <td>-0.417407</td>\n",
              "      <td>1.531039</td>\n",
              "      <td>-0.019450</td>\n",
              "      <td>-1.851146</td>\n",
              "      <td>-0.596126</td>\n",
              "    </tr>\n",
              "    <tr>\n",
              "      <th>20</th>\n",
              "      <td>0.584599</td>\n",
              "      <td>0.772000</td>\n",
              "      <td>0.593412</td>\n",
              "      <td>0.626991</td>\n",
              "      <td>0.300655</td>\n",
              "      <td>0.074444</td>\n",
              "      <td>-0.805004</td>\n",
              "      <td>-0.331159</td>\n",
              "      <td>1.313896</td>\n",
              "      <td>-0.001553</td>\n",
              "      <td>-1.618632</td>\n",
              "      <td>-0.491977</td>\n",
              "    </tr>\n",
              "    <tr>\n",
              "      <th>21</th>\n",
              "      <td>0.869185</td>\n",
              "      <td>0.957650</td>\n",
              "      <td>0.893931</td>\n",
              "      <td>0.903972</td>\n",
              "      <td>0.367095</td>\n",
              "      <td>-0.311407</td>\n",
              "      <td>-1.311883</td>\n",
              "      <td>-0.402548</td>\n",
              "      <td>1.655870</td>\n",
              "      <td>0.013864</td>\n",
              "      <td>-2.439483</td>\n",
              "      <td>-0.491608</td>\n",
              "    </tr>\n",
              "    <tr>\n",
              "      <th>22</th>\n",
              "      <td>-1.625985</td>\n",
              "      <td>-1.721600</td>\n",
              "      <td>-1.831010</td>\n",
              "      <td>-1.710023</td>\n",
              "      <td>-0.536456</td>\n",
              "      <td>0.127901</td>\n",
              "      <td>1.816704</td>\n",
              "      <td>-0.409272</td>\n",
              "      <td>-1.424160</td>\n",
              "      <td>0.039429</td>\n",
              "      <td>0.748343</td>\n",
              "      <td>-0.548010</td>\n",
              "    </tr>\n",
              "    <tr>\n",
              "      <th>23</th>\n",
              "      <td>-1.482066</td>\n",
              "      <td>-1.580102</td>\n",
              "      <td>-1.699599</td>\n",
              "      <td>-1.633355</td>\n",
              "      <td>-0.446178</td>\n",
              "      <td>0.307254</td>\n",
              "      <td>1.612095</td>\n",
              "      <td>-0.382995</td>\n",
              "      <td>-1.344314</td>\n",
              "      <td>0.032199</td>\n",
              "      <td>0.742533</td>\n",
              "      <td>-0.491798</td>\n",
              "    </tr>\n",
              "    <tr>\n",
              "      <th>24</th>\n",
              "      <td>-2.088116</td>\n",
              "      <td>-2.119629</td>\n",
              "      <td>-2.143662</td>\n",
              "      <td>-2.012148</td>\n",
              "      <td>-0.839256</td>\n",
              "      <td>0.324216</td>\n",
              "      <td>0.594795</td>\n",
              "      <td>-0.373623</td>\n",
              "      <td>-0.599968</td>\n",
              "      <td>0.024141</td>\n",
              "      <td>0.567260</td>\n",
              "      <td>-0.509938</td>\n",
              "    </tr>\n",
              "  </tbody>\n",
              "</table>\n",
              "</div>"
            ],
            "text/plain": [
              "    discharge_patapsco (catonsville)  gage_height_patapsco (catonsville)  \\\n",
              "0                           0.772336                            0.739695   \n",
              "1                          -1.670881                           -1.761236   \n",
              "2                           0.086873                            0.044534   \n",
              "3                           0.279459                            0.315297   \n",
              "4                          -1.142897                           -1.207057   \n",
              "5                           0.237000                            0.365790   \n",
              "6                          -1.804943                           -1.913139   \n",
              "7                           0.454133                            0.741002   \n",
              "8                          -1.425104                           -1.496531   \n",
              "9                          -1.542353                           -1.619353   \n",
              "10                          0.632649                            0.644802   \n",
              "11                         -0.701260                           -0.738349   \n",
              "12                          0.970858                            0.980349   \n",
              "13                          0.699392                            0.803570   \n",
              "14                         -1.214491                           -1.287492   \n",
              "15                         -1.680820                           -1.809492   \n",
              "16                         -1.731294                           -1.808129   \n",
              "17                         -1.282309                           -1.358119   \n",
              "18                          0.701784                            1.035583   \n",
              "19                          0.652871                            0.987907   \n",
              "20                          0.584599                            0.772000   \n",
              "21                          0.869185                            0.957650   \n",
              "22                         -1.625985                           -1.721600   \n",
              "23                         -1.482066                           -1.580102   \n",
              "24                         -2.088116                           -2.119629   \n",
              "\n",
              "    discharge_patapsco (elkridge)  gage_height_patapsco (elkridge)  \\\n",
              "0                        0.754164                         0.724172   \n",
              "1                       -1.847906                        -1.748482   \n",
              "2                        0.077198                         0.181858   \n",
              "3                        0.215738                         0.197998   \n",
              "4                       -1.261927                        -1.230424   \n",
              "5                        0.273446                         0.276919   \n",
              "6                       -1.995956                        -1.964693   \n",
              "7                        0.441072                         0.477940   \n",
              "8                       -1.513192                        -1.477515   \n",
              "9                       -1.703923                        -1.611747   \n",
              "10                       0.656126                         0.632375   \n",
              "11                      -0.756779                        -0.625856   \n",
              "12                       0.900483                         0.968211   \n",
              "13                       0.737215                         0.756309   \n",
              "14                      -1.296421                        -1.256788   \n",
              "15                      -1.922143                        -1.878891   \n",
              "16                      -1.862607                        -1.821148   \n",
              "17                      -1.455170                        -1.392613   \n",
              "18                       0.621954                         0.650541   \n",
              "19                       0.591172                         0.624727   \n",
              "20                       0.593412                         0.626991   \n",
              "21                       0.893931                         0.903972   \n",
              "22                      -1.831010                        -1.710023   \n",
              "23                      -1.699599                        -1.633355   \n",
              "24                      -2.143662                        -2.012148   \n",
              "\n",
              "    HourlyAltimeterSetting  HourlyDewPointTemperature  \\\n",
              "0                -0.352772                  -0.329766   \n",
              "1                -0.575328                   0.039346   \n",
              "2                -0.024711                   0.619327   \n",
              "3                 0.044462                   0.363485   \n",
              "4                -0.377978                   0.694680   \n",
              "5                 0.050863                   0.510562   \n",
              "6                -0.573085                  -0.172861   \n",
              "7                 0.308993                   0.420024   \n",
              "8                -0.531821                   0.134990   \n",
              "9                -0.602530                  -0.018975   \n",
              "10               -0.277162                  -0.365294   \n",
              "11               -0.062863                   0.833708   \n",
              "12                0.311478                  -0.560987   \n",
              "13                0.317239                  -0.155315   \n",
              "14               -0.558942                   0.845532   \n",
              "15               -0.516925                   0.001085   \n",
              "16               -0.630524                  -0.077065   \n",
              "17               -0.393142                   0.730172   \n",
              "18                0.432770                   0.268654   \n",
              "19                0.422573                   0.260517   \n",
              "20                0.300655                   0.074444   \n",
              "21                0.367095                  -0.311407   \n",
              "22               -0.536456                   0.127901   \n",
              "23               -0.446178                   0.307254   \n",
              "24               -0.839256                   0.324216   \n",
              "\n",
              "    HourlyDryBulbTemperature  HourlyPrecipitation  HourlyRelativeHumidity  \\\n",
              "0                  -1.158718            -0.436843                1.286614   \n",
              "1                   1.617851            -0.384379               -1.384061   \n",
              "2                  -0.090771            -0.376915                0.644865   \n",
              "3                  -0.557868            -0.326117                1.086507   \n",
              "4                   0.959938            -0.292505               -0.700651   \n",
              "5                  -0.311375            -0.327554                0.965623   \n",
              "6                   2.181212            -0.424077               -1.753876   \n",
              "7                  -0.456607            -0.343312                1.152998   \n",
              "8                   1.331664            -0.340697               -1.148914   \n",
              "9                   0.993011            -0.370577               -0.957464   \n",
              "10                 -1.170737            -0.354270                1.336472   \n",
              "11                  0.463303            -0.309626                0.027997   \n",
              "12                 -1.415380            -0.401975                1.606722   \n",
              "13                 -1.057803            -0.376712                1.342978   \n",
              "14                  0.334669            -0.320882                0.105969   \n",
              "15                  2.024864            -0.441646               -1.596065   \n",
              "16                  2.114313            -0.388973               -1.627141   \n",
              "17                  1.041951            -0.338753               -0.798439   \n",
              "18                 -0.783224            -0.430331                1.450491   \n",
              "19                 -0.834116            -0.417407                1.531039   \n",
              "20                 -0.805004            -0.331159                1.313896   \n",
              "21                 -1.311883            -0.402548                1.655870   \n",
              "22                  1.816704            -0.409272               -1.424160   \n",
              "23                  1.612095            -0.382995               -1.344314   \n",
              "24                  0.594795            -0.373623               -0.599968   \n",
              "\n",
              "    HourlyStationPressure  HourlyVisibility         y  \n",
              "0               -0.039304          0.870323 -0.534547  \n",
              "1                0.036280          0.840191 -0.502933  \n",
              "2                0.020914          0.707993 -0.487491  \n",
              "3               -0.002068         -1.227507 -0.445785  \n",
              "4               -0.003773          0.464901 -0.364712  \n",
              "5                0.030290         -0.028898 -0.421924  \n",
              "6                0.043289          0.827580 -0.559465  \n",
              "7               -0.004528         -1.003688 -0.462638  \n",
              "8                0.001678          0.690197 -0.436401  \n",
              "9                0.004775          0.707540 -0.450576  \n",
              "10              -0.019958          0.737067 -0.492342  \n",
              "11              -0.002116          0.502934 -0.376735  \n",
              "12              -0.009469         -2.627157 -0.509348  \n",
              "13              -0.003646         -2.045369 -0.460740  \n",
              "14               0.002044         -0.503447 -0.457652  \n",
              "15               0.013277          0.794800 -0.521992  \n",
              "16               0.041076          0.709654 -0.511701  \n",
              "17               0.008632          0.565391 -0.426813  \n",
              "18              -0.011488         -1.853778 -0.587232  \n",
              "19              -0.019450         -1.851146 -0.596126  \n",
              "20              -0.001553         -1.618632 -0.491977  \n",
              "21               0.013864         -2.439483 -0.491608  \n",
              "22               0.039429          0.748343 -0.548010  \n",
              "23               0.032199          0.742533 -0.491798  \n",
              "24               0.024141          0.567260 -0.509938  "
            ]
          },
          "metadata": {
            "tags": []
          },
          "execution_count": 22
        }
      ]
    },
    {
      "cell_type": "code",
      "metadata": {
        "id": "__y5I3PdrbVq"
      },
      "source": [
        ""
      ],
      "execution_count": null,
      "outputs": []
    },
    {
      "cell_type": "code",
      "metadata": {
        "id": "eKh-vQbwrbVr"
      },
      "source": [
        "import pandas as pd\n",
        "import random"
      ],
      "execution_count": null,
      "outputs": []
    },
    {
      "cell_type": "code",
      "metadata": {
        "id": "MrI1fLBVrbVs",
        "outputId": "941d2a6d-e042-4a93-870b-8cccf3929558"
      },
      "source": [
        "gen_samples['y'].quantile(np.linspace(.1, 1, 9, 0))"
      ],
      "execution_count": null,
      "outputs": [
        {
          "output_type": "execute_result",
          "data": {
            "text/plain": [
              "0.1   -0.550377\n",
              "0.2   -0.518578\n",
              "0.3   -0.502841\n",
              "0.4   -0.486738\n",
              "0.5   -0.474149\n",
              "0.6   -0.460655\n",
              "0.7   -0.449406\n",
              "0.8   -0.435353\n",
              "0.9   -0.420260\n",
              "Name: y, dtype: float64"
            ]
          },
          "metadata": {
            "tags": []
          },
          "execution_count": 24
        }
      ]
    },
    {
      "cell_type": "code",
      "metadata": {
        "id": "Uc2BjO4mrbVu",
        "outputId": "08f8c405-a2b4-4862-93cb-48328f065461"
      },
      "source": [
        "gen_samples['y'].mean()"
      ],
      "execution_count": null,
      "outputs": [
        {
          "output_type": "execute_result",
          "data": {
            "text/plain": [
              "-0.4799148738384247"
            ]
          },
          "metadata": {
            "tags": []
          },
          "execution_count": 25
        }
      ]
    },
    {
      "cell_type": "code",
      "metadata": {
        "id": "gFCl52OtrbVw"
      },
      "source": [
        "# replace values in y so that it is 0 or 1\n",
        "# we have to decide if we should do this now or after \n",
        "gen_samples['y'].values[gen_samples['y'].values > -.40] = 1\n",
        "gen_samples['y'].values[gen_samples['y'].values < -.40] = 0"
      ],
      "execution_count": null,
      "outputs": []
    },
    {
      "cell_type": "code",
      "metadata": {
        "scrolled": true,
        "id": "cqnb_q-wrbVx",
        "outputId": "4db21384-a9d6-4aaf-e79d-1a69e3d5eed9"
      },
      "source": [
        "df['y'].loc[df['y'] >0].count()"
      ],
      "execution_count": null,
      "outputs": [
        {
          "output_type": "execute_result",
          "data": {
            "text/plain": [
              "378"
            ]
          },
          "metadata": {
            "tags": []
          },
          "execution_count": 27
        }
      ]
    },
    {
      "cell_type": "code",
      "metadata": {
        "id": "_UvTDkX-rbVy",
        "outputId": "67f39ab4-e5e4-4c62-e0f1-d7902fb98454"
      },
      "source": [
        "#seeing distribution for new dataset\n",
        "gen_samples['y'].value_counts()"
      ],
      "execution_count": null,
      "outputs": [
        {
          "output_type": "execute_result",
          "data": {
            "text/plain": [
              "0.0    963\n",
              "1.0     37\n",
              "Name: y, dtype: int64"
            ]
          },
          "metadata": {
            "tags": []
          },
          "execution_count": 28
        }
      ]
    },
    {
      "cell_type": "code",
      "metadata": {
        "id": "ohV9fe0ArbV0",
        "outputId": "a6ed78c6-b3fe-489c-c9f0-47ab112babbd"
      },
      "source": [
        "#seeing the distribution for original dataset\n",
        "df['y'].value_counts()"
      ],
      "execution_count": null,
      "outputs": [
        {
          "output_type": "execute_result",
          "data": {
            "text/plain": [
              "-0.445449    1905\n",
              " 2.244924     378\n",
              "Name: y, dtype: int64"
            ]
          },
          "metadata": {
            "tags": []
          },
          "execution_count": 29
        }
      ]
    },
    {
      "cell_type": "code",
      "metadata": {
        "id": "afxXikLcrbV1"
      },
      "source": [
        ""
      ],
      "execution_count": null,
      "outputs": []
    },
    {
      "cell_type": "code",
      "metadata": {
        "id": "_8jshCiSrbV2",
        "outputId": "706219e6-8f49-49cc-e767-aa97a06f35f3"
      },
      "source": [
        "# should follow same trend but should not match exactly \n",
        "\n",
        "a = df['HourlyDewPointTemperature']\n",
        "b = gen_samples['HourlyDewPointTemperature']\n",
        "plt.hist(a,alpha=.5,bins = [-4,-3.5,-3,-2.5,-2,-1.5,-1,-.5,0,.5,1,1.5,2,2.5,3,3.5,4])\n",
        "plt.hist(b,alpha=.5,bins = [-4,-3.5,-3,-2.5,-2,-1.5,-1,-.5,0,.5,1,1.5,2,2.5,3,3.5,4])"
      ],
      "execution_count": null,
      "outputs": [
        {
          "output_type": "execute_result",
          "data": {
            "text/plain": [
              "(array([  0.,   0.,   0.,   0.,   0.,   0.,  15., 242., 444., 213.,  86.,\n",
              "          0.,   0.,   0.,   0.,   0.]),\n",
              " array([-4. , -3.5, -3. , -2.5, -2. , -1.5, -1. , -0.5,  0. ,  0.5,  1. ,\n",
              "         1.5,  2. ,  2.5,  3. ,  3.5,  4. ]),\n",
              " <BarContainer object of 16 artists>)"
            ]
          },
          "metadata": {
            "tags": []
          },
          "execution_count": 30
        },
        {
          "output_type": "display_data",
          "data": {
            "image/png": "[encoded data removed]",
            "text/plain": [
              "<Figure size 432x288 with 1 Axes>"
            ]
          },
          "metadata": {
            "tags": [],
            "needs_background": "light"
          }
        }
      ]
    },
    {
      "cell_type": "code",
      "metadata": {
        "id": "3wktU2TOrbV3"
      },
      "source": [
        "#exporting the new generated data to csv\n",
        "#gen_samples.to_csv(\"gan_data3.csv\")"
      ],
      "execution_count": null,
      "outputs": []
    },
    {
      "cell_type": "markdown",
      "metadata": {
        "id": "VfmS_4UlrbV4"
      },
      "source": [
        "# end of gan stuff"
      ]
    },
    {
      "cell_type": "code",
      "metadata": {
        "id": "6GknQIk6rbV5"
      },
      "source": [
        ""
      ],
      "execution_count": null,
      "outputs": []
    },
    {
      "cell_type": "code",
      "metadata": {
        "id": "DGTf0q3crbV6"
      },
      "source": [
        ""
      ],
      "execution_count": null,
      "outputs": []
    },
    {
      "cell_type": "code",
      "metadata": {
        "id": "QXzGniK2rbV7"
      },
      "source": [
        ""
      ],
      "execution_count": null,
      "outputs": []
    },
    {
      "cell_type": "code",
      "metadata": {
        "id": "YcsCtWirrbV7"
      },
      "source": [
        ""
      ],
      "execution_count": null,
      "outputs": []
    },
    {
      "cell_type": "code",
      "metadata": {
        "id": "eTmDvmSurbV8"
      },
      "source": [
        ""
      ],
      "execution_count": null,
      "outputs": []
    }
  ]
}