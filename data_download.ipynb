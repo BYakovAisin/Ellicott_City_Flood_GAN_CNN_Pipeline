{
  "nbformat": 4,
  "nbformat_minor": 0,
  "metadata": {
    "colab": {
      "name": "data download.ipynb",
      "provenance": [],
      "collapsed_sections": [],
      "mount_file_id": "1ukE1YoGY7Jww3_mGFEq3D7btQy9jBjl3",
      "authorship_tag": "ABX9TyOfc5qKZhl1FQ4vANABXNMm"
    },
    "kernelspec": {
      "name": "python3",
      "display_name": "Python 3"
    },
    "language_info": {
      "name": "python"
    },
    "accelerator": "TPU"
  },
  "cells": [
    {
      "cell_type": "code",
      "metadata": {
        "id": "WrQFQ97oG1CB"
      },
      "source": [
        "import pandas as pd\n",
        "from bs4 import BeautifulSoup\n",
        "import urllib.request as ur"
      ],
      "execution_count": null,
      "outputs": []
    },
    {
      "cell_type": "code",
      "metadata": {
        "id": "qjxDoS6TrDU8"
      },
      "source": [
        "path = '/content/drive/MyDrive/MSML_612_project/data/'"
      ],
      "execution_count": null,
      "outputs": []
    },
    {
      "cell_type": "markdown",
      "metadata": {
        "id": "YP8bBVxQ7iBl"
      },
      "source": [
        "### Patapsco @ Castonsvill, MD"
      ]
    },
    {
      "cell_type": "code",
      "metadata": {
        "id": "bQX4olhYhQ9d"
      },
      "source": [
        "url1 = 'https://nwis.waterdata.usgs.gov/md/nwis/uv/?cb_00060=on&cb_00065=on&format=rdb&site_no=01589025&period=&begin_date=2010-10-01&end_date=2021-08-04'\n",
        "url1 = ur.urlopen(url1)"
      ],
      "execution_count": null,
      "outputs": []
    },
    {
      "cell_type": "code",
      "metadata": {
        "id": "kcIYdCI7iVvR"
      },
      "source": [
        "soup1 = BeautifulSoup(url1)\n",
        "text_patapsco = soup1.get_text()"
      ],
      "execution_count": null,
      "outputs": []
    },
    {
      "cell_type": "code",
      "metadata": {
        "id": "PnaZsmmNoEtH"
      },
      "source": [
        "with open(path+'patapsco_cat.txt', 'w') as f:\n",
        "  for i in text_patapsco:\n",
        "    f.write(i)"
      ],
      "execution_count": null,
      "outputs": []
    },
    {
      "cell_type": "markdown",
      "metadata": {
        "id": "pyC-LAV49bYb"
      },
      "source": [
        "### Patapsco @ Elkridge, MD"
      ]
    },
    {
      "cell_type": "code",
      "metadata": {
        "id": "YuvzmuNE_Trg"
      },
      "source": [
        "url2 = 'https://nwis.waterdata.usgs.gov/md/nwis/uv/?cb_00060=on&cb_00065=on&format=rdb&site_no=01589035&period=&begin_date=2010-10-09&end_date=2021-08-04'\n",
        "url2 = ur.urlopen(url2)"
      ],
      "execution_count": null,
      "outputs": []
    },
    {
      "cell_type": "code",
      "metadata": {
        "id": "2VVuy3i4_peU"
      },
      "source": [
        "soup2 = BeautifulSoup(url2)\n",
        "text_patapsco_elk = soup2.get_text()"
      ],
      "execution_count": null,
      "outputs": []
    },
    {
      "cell_type": "code",
      "metadata": {
        "id": "EO3eGQX0_svV"
      },
      "source": [
        "with open(path+'patapsco_elk.txt', 'w') as f:\n",
        "  for i in text_patapsco_elk:\n",
        "    f.write(i)"
      ],
      "execution_count": null,
      "outputs": []
    },
    {
      "cell_type": "markdown",
      "metadata": {
        "id": "iP0_ocvgCdwh"
      },
      "source": [
        "### NOAA Climate Data @ BWI, MD"
      ]
    },
    {
      "cell_type": "code",
      "metadata": {
        "id": "w5OQm7unFQF2",
        "colab": {
          "base_uri": "https://localhost:8080/"
        },
        "outputId": "ce37d6f5-e53b-4e21-b2e0-98e45269a039"
      },
      "source": [
        "url3 = 'https://www.ncei.noaa.gov/orders/cdo/2674159.csv' #link expired on 8/11/2021\n",
        "\n",
        "df = pd.read_csv(url3)"
      ],
      "execution_count": null,
      "outputs": [
        {
          "output_type": "stream",
          "text": [
            "/usr/local/lib/python3.7/dist-packages/IPython/core/interactiveshell.py:2718: DtypeWarning: Columns (33,41,42,43,46,48,49,51,52,53,69,73,75,88,89) have mixed types.Specify dtype option on import or set low_memory=False.\n",
            "  interactivity=interactivity, compiler=compiler, result=result)\n"
          ],
          "name": "stderr"
        }
      ]
    },
    {
      "cell_type": "code",
      "metadata": {
        "id": "ZpSaZENQrnOj"
      },
      "source": [
        "df.to_csv(path_or_buf=path+'noaa_bwi.csv')"
      ],
      "execution_count": null,
      "outputs": []
    }
  ]
}